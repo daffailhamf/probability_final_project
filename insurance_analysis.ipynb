{
 "cells": [
  {
   "cell_type": "markdown",
   "metadata": {},
   "source": [
    "# **Project Background**"
   ]
  },
  {
   "cell_type": "markdown",
   "metadata": {},
   "source": [
    "In the world of uncertainty, health insurance is one of the things that need to be considered, because of its ability to save us in situations where our health condition suddenly deteriorates. Health insurance worked by requiring users to pay regular amounts of money (premiums) to the insurance company. Then the premium is processed by the insurance company to pay the insured user's health bill. However, determining the premium value can be a challenge for the insurer because many factors can influence and increase the user's risk profile. \n",
    "\n",
    "\n",
    "Through this project, I will try to help analyze the variables that have a relationship with the premium value received by each user. The datasets contained the user's personal data such as age, gender, place of residence, number of children covered by the insurance, BMI value, and whether the user is a smoker or not."
   ]
  },
  {
   "cell_type": "markdown",
   "metadata": {},
   "source": [
    "***"
   ]
  },
  {
   "cell_type": "markdown",
   "metadata": {},
   "source": [
    "### **Loading data and importing neccessary libraries**"
   ]
  },
  {
   "cell_type": "code",
   "execution_count": 1,
   "metadata": {},
   "outputs": [],
   "source": [
    "import pandas as pd\n",
    "import matplotlib.pyplot as plt\n",
    "import numpy as np\n",
    "import scipy.stats as stats"
   ]
  },
  {
   "cell_type": "code",
   "execution_count": 2,
   "metadata": {},
   "outputs": [
    {
     "data": {
      "text/html": [
       "<div>\n",
       "<style scoped>\n",
       "    .dataframe tbody tr th:only-of-type {\n",
       "        vertical-align: middle;\n",
       "    }\n",
       "\n",
       "    .dataframe tbody tr th {\n",
       "        vertical-align: top;\n",
       "    }\n",
       "\n",
       "    .dataframe thead th {\n",
       "        text-align: right;\n",
       "    }\n",
       "</style>\n",
       "<table border=\"1\" class=\"dataframe\">\n",
       "  <thead>\n",
       "    <tr style=\"text-align: right;\">\n",
       "      <th></th>\n",
       "      <th>age</th>\n",
       "      <th>sex</th>\n",
       "      <th>bmi</th>\n",
       "      <th>children</th>\n",
       "      <th>smoker</th>\n",
       "      <th>region</th>\n",
       "      <th>charges</th>\n",
       "    </tr>\n",
       "  </thead>\n",
       "  <tbody>\n",
       "    <tr>\n",
       "      <th>0</th>\n",
       "      <td>19</td>\n",
       "      <td>female</td>\n",
       "      <td>27.900</td>\n",
       "      <td>0</td>\n",
       "      <td>yes</td>\n",
       "      <td>southwest</td>\n",
       "      <td>16884.92400</td>\n",
       "    </tr>\n",
       "    <tr>\n",
       "      <th>1</th>\n",
       "      <td>18</td>\n",
       "      <td>male</td>\n",
       "      <td>33.770</td>\n",
       "      <td>1</td>\n",
       "      <td>no</td>\n",
       "      <td>southeast</td>\n",
       "      <td>1725.55230</td>\n",
       "    </tr>\n",
       "    <tr>\n",
       "      <th>2</th>\n",
       "      <td>28</td>\n",
       "      <td>male</td>\n",
       "      <td>33.000</td>\n",
       "      <td>3</td>\n",
       "      <td>no</td>\n",
       "      <td>southeast</td>\n",
       "      <td>4449.46200</td>\n",
       "    </tr>\n",
       "    <tr>\n",
       "      <th>3</th>\n",
       "      <td>33</td>\n",
       "      <td>male</td>\n",
       "      <td>22.705</td>\n",
       "      <td>0</td>\n",
       "      <td>no</td>\n",
       "      <td>northwest</td>\n",
       "      <td>21984.47061</td>\n",
       "    </tr>\n",
       "    <tr>\n",
       "      <th>4</th>\n",
       "      <td>32</td>\n",
       "      <td>male</td>\n",
       "      <td>28.880</td>\n",
       "      <td>0</td>\n",
       "      <td>no</td>\n",
       "      <td>northwest</td>\n",
       "      <td>3866.85520</td>\n",
       "    </tr>\n",
       "  </tbody>\n",
       "</table>\n",
       "</div>"
      ],
      "text/plain": [
       "   age     sex     bmi  children smoker     region      charges\n",
       "0   19  female  27.900         0    yes  southwest  16884.92400\n",
       "1   18    male  33.770         1     no  southeast   1725.55230\n",
       "2   28    male  33.000         3     no  southeast   4449.46200\n",
       "3   33    male  22.705         0     no  northwest  21984.47061\n",
       "4   32    male  28.880         0     no  northwest   3866.85520"
      ]
     },
     "execution_count": 2,
     "metadata": {},
     "output_type": "execute_result"
    }
   ],
   "source": [
    "df = pd.read_csv('insurance.csv')\n",
    "df.head()"
   ]
  },
  {
   "cell_type": "markdown",
   "metadata": {},
   "source": [
    "***"
   ]
  },
  {
   "cell_type": "markdown",
   "metadata": {},
   "source": [
    "### **1st step: Descriptive analytics**"
   ]
  },
  {
   "cell_type": "markdown",
   "metadata": {},
   "source": [
    "To make an initial exploration, I will try to answer the following questions.\n",
    "\n",
    "1. What is the average age of the users?\n",
    "2. What is the average BMI score for the smoker category?\n",
    "3. On average, which category has a higher BMI score? Male or female?\n",
    "4. On average, which category charged higher? Smokers or non-smokers?\n",
    "5. On average, which category charged higher? Smokers with BMI > 25 or non-smokers with BMI > 25"
   ]
  },
  {
   "cell_type": "markdown",
   "metadata": {},
   "source": [
    "---"
   ]
  },
  {
   "cell_type": "markdown",
   "metadata": {},
   "source": [
    "**1. What is the average age of the users?**"
   ]
  },
  {
   "cell_type": "code",
   "execution_count": 3,
   "metadata": {},
   "outputs": [
    {
     "data": {
      "image/png": "[encoded data removed]",
      "text/plain": [
       "<Figure size 432x288 with 1 Axes>"
      ]
     },
     "metadata": {
      "needs_background": "light"
     },
     "output_type": "display_data"
    },
    {
     "name": "stdout",
     "output_type": "stream",
     "text": [
      "Age median: 39.0 years old\n"
     ]
    }
   ],
   "source": [
    "plt.hist(df['age'])\n",
    "\n",
    "plt.title('Age Distribution')\n",
    "plt.xlabel('Age (years)')\n",
    "plt.ylabel('Frequency')\n",
    "plt.axvline(df['age'].median(),color='black', label='Age Median')\n",
    "plt.legend()\n",
    "\n",
    "plt.show()\n",
    "print(f'Age median: {df[\"age\"].median()} years old')"
   ]
  },
  {
   "cell_type": "markdown",
   "metadata": {},
   "source": [
    "Because the is not normally distributed, I take the median as the central tendency measurement. It turns out that the representative age of the data is 39 years old."
   ]
  },
  {
   "cell_type": "markdown",
   "metadata": {},
   "source": [
    "---"
   ]
  },
  {
   "cell_type": "markdown",
   "metadata": {},
   "source": [
    "**2. What is the average BMI for the smoker category?**"
   ]
  },
  {
   "cell_type": "code",
   "execution_count": 4,
   "metadata": {},
   "outputs": [
    {
     "data": {
      "image/png": "[encoded data removed]",
      "text/plain": [
       "<Figure size 432x288 with 1 Axes>"
      ]
     },
     "metadata": {
      "needs_background": "light"
     },
     "output_type": "display_data"
    },
    {
     "name": "stdout",
     "output_type": "stream",
     "text": [
      "Smoker BMI mean: 30.708448905109503 kg/m^2\n"
     ]
    }
   ],
   "source": [
    "smoker = df.loc[df['smoker'] == 'yes']['bmi']\n",
    "\n",
    "plt.hist(df.loc[df['smoker'] == 'yes']['bmi'])\n",
    "plt.title('BMI Distribution For The Smoker Category')\n",
    "plt.xlabel('BMI (kg/m$^2$)')\n",
    "plt.ylabel('Frequency')\n",
    "plt.axvline(smoker.mean(), color='black', label='BMI Mean')\n",
    "plt.legend()\n",
    "\n",
    "plt.show()\n",
    "\n",
    "print(f'Smoker BMI mean: {smoker.mean()} kg/m^2')"
   ]
  },
  {
   "cell_type": "markdown",
   "metadata": {},
   "source": [
    "According to the publication titled [BMI Classification Percentile And Cut Off Points](https://www.ncbi.nlm.nih.gov/books/NBK541070/), the smoker's group BMI in this dataset falls within the 'Obesity Class 1' category that ranges from 30-34.9 kg/$m^2$."
   ]
  },
  {
   "cell_type": "markdown",
   "metadata": {},
   "source": [
    "---"
   ]
  },
  {
   "cell_type": "markdown",
   "metadata": {},
   "source": [
    "**3. On average, which categories have higher BMI? Male or female?**"
   ]
  },
  {
   "cell_type": "code",
   "execution_count": 5,
   "metadata": {},
   "outputs": [
    {
     "data": {
      "image/png": "[encoded data removed]",
      "text/plain": [
       "<Figure size 432x288 with 1 Axes>"
      ]
     },
     "metadata": {
      "needs_background": "light"
     },
     "output_type": "display_data"
    },
    {
     "name": "stdout",
     "output_type": "stream",
     "text": [
      "Male BMI Mean: 30.943128698224832 kg/m^2\n",
      "Female BMI Mean: 30.377749244713023 kg/m^2\n"
     ]
    }
   ],
   "source": [
    "# Data for male BMI\n",
    "male = df.loc[df['sex'] == 'male']['bmi']\n",
    "\n",
    "# Data for female BMI\n",
    "female = df.loc[df['sex'] == 'female']['bmi']\n",
    "\n",
    "# Ploting the graph\n",
    "plt.hist(male, label='Male', color='brown')\n",
    "plt.hist(female, label='Female')\n",
    "plt.title('BMI Distributions Based on Gender')\n",
    "plt.xlabel('BMI (kg/m$^2$)')\n",
    "plt.ylabel('Frequency')\n",
    "plt.axvline(male.mean(), color='black', label='Male Mean')\n",
    "plt.axvline(female.mean(),color='pink', label='Female Mean')\n",
    "plt.legend()\n",
    "\n",
    "plt.show()\n",
    "print(f'Male BMI Mean: {male.mean()} kg/m^2',f'Female BMI Mean: {female.mean()} kg/m^2',sep='\\n')"
   ]
  },
  {
   "cell_type": "markdown",
   "metadata": {},
   "source": [
    "The average BMI mean for the two genders are similar, with the Male groups having a slightly higher BMI score than the Female groups. Both categories are also classified as obsessed, as their BMI score lies in the range of the 'Obesity Class 1' category that is defined in the publication titled [BMI Classification Percentile And Cut Off Points](https://www.ncbi.nlm.nih.gov/books/NBK541070/)."
   ]
  },
  {
   "cell_type": "markdown",
   "metadata": {},
   "source": [
    "---"
   ]
  },
  {
   "cell_type": "markdown",
   "metadata": {},
   "source": [
    "**4. On average, which category charged higher? Smokers or non-smokers?**"
   ]
  },
  {
   "cell_type": "code",
   "execution_count": 38,
   "metadata": {},
   "outputs": [
    {
     "data": {
      "image/png": "[encoded data removed]",
      "text/plain": [
       "<Figure size 432x288 with 1 Axes>"
      ]
     },
     "metadata": {
      "needs_background": "light"
     },
     "output_type": "display_data"
    },
    {
     "name": "stdout",
     "output_type": "stream",
     "text": [
      "Average Smokers charged: $39790.0 USD\n",
      "Average Non-smokers charged: $7345.4053 USD\n",
      "Charge differences: 541.6991762183633%\n"
     ]
    }
   ],
   "source": [
    "smokers = df.loc[df['smoker'] == 'yes']['charges']\n",
    "non_smokers = df.loc[df['smoker'] == 'no']['charges']\n",
    "\n",
    "# Ploting the graph\n",
    "plt.hist(non_smokers,label='Non-smokers')\n",
    "plt.hist(smokers,label='Smokers')\n",
    "plt.title('Charges Distributions Between Smokers and Non-smokers')\n",
    "plt.xlabel('Charges (USD)')\n",
    "plt.ylabel('Frequency')\n",
    "\n",
    "plt.axvline(non_smokers.median(),color='pink', label='Non-smokers Median')\n",
    "\n",
    "# Looking for smokers group mode\n",
    "discrete_charges = pd.cut(smokers, bins=np.arange(10000,80000,180)) # (39700, 39880)\n",
    "smokers_charged = (39700+39880)/2 # Range of smokers group mode / 2\n",
    "\n",
    "plt.legend()\n",
    "plt.show()\n",
    "\n",
    "# Calculating charge differences\n",
    "charge_difference_1 = ((smokers_charged)/non_smokers.median())*100\n",
    "\n",
    "print(\n",
    "    f'Average Smokers charged: ${smokers_charged} USD',\n",
    "    f'Average Non-smokers charged: ${non_smokers.median()} USD',\n",
    "    f'Charge differences: {charge_difference_1}%',\n",
    "    sep='\\n'\n",
    ")\n"
   ]
  },
  {
   "cell_type": "markdown",
   "metadata": {},
   "source": [
    "Because the Smokers group have a bimodal distributions, here I will search for the global maximum and take it as the central tendency measurement (mode).\n",
    "\n",
    "\n",
    "The average charge for the two categories differs, with the Smoker group, being approximately charged 5 times as much as the Non-smoker group"
   ]
  },
  {
   "cell_type": "markdown",
   "metadata": {},
   "source": [
    "---"
   ]
  },
  {
   "cell_type": "markdown",
   "metadata": {},
   "source": [
    "**5. On average, which category charged higher? Smokers with BMI > 25 or non-smokers with BMI > 25**"
   ]
  },
  {
   "cell_type": "code",
   "execution_count": 7,
   "metadata": {},
   "outputs": [
    {
     "data": {
      "image/png": "[encoded data removed]",
      "text/plain": [
       "<Figure size 432x288 with 1 Axes>"
      ]
     },
     "metadata": {
      "needs_background": "light"
     },
     "output_type": "display_data"
    },
    {
     "name": "stdout",
     "output_type": "stream",
     "text": [
      "Smokers charged: 0    (39700, 39880]\n",
      "Name: charges, dtype: category\n",
      "Categories (388, interval[int64, right]): [(10000, 10180] < (10180, 10360] < (10360, 10540] < (10540, 10720] ... (79120, 79300] < (79300, 79480] < (79480, 79660] < (79660, 79840]]\n",
      "\n",
      "Non-smokers charged: $7580.89695 USD\n",
      "Charge differences: 524.8719282485432%\n"
     ]
    }
   ],
   "source": [
    "# Average charges of smokers with BMI > 25 \n",
    "smokers = df.loc[(df['smoker'] == 'yes') & (df['bmi'] > 25)]['charges']\n",
    "\n",
    "# Average charges of non-smokers with BMI > 25 \n",
    "non_smokers = df.loc[(df['smoker'] == 'no') & (df['bmi'] > 25)]['charges']\n",
    "\n",
    "# Graphing the distributions\n",
    "plt.hist(non_smokers, label='Non-smokers')\n",
    "plt.hist(smokers, label='Smokers')\n",
    "plt.title('Charges Distributions for Smokers and Non-smokers With BMI > 25')\n",
    "plt.xlabel('Charges (USD)')\n",
    "plt.ylabel('Frequency')\n",
    "plt.axvline(non_smokers.median(),color='pink', label='Non-smokers Median')\n",
    "\n",
    "# Looking for the mode\n",
    "discrete_charges = pd.cut(smokers, bins=np.arange(10000,80000,180))\n",
    "\n",
    "plt.legend()\n",
    "plt.show()\n",
    "\n",
    "# Calculating charge differences\n",
    "smokers_charged = (39700+39880)/2 # Range of smokers group mode / 2\n",
    "charge_difference_2 = ((smokers_charged)/non_smokers.median())*100\n",
    "# charge_differences = ((charge_difference_1-charge_difference_2)/charge_difference_2)*100\n",
    "\n",
    "print(f'Smokers charged: {discrete_charges.mode()}', f'Non-smokers charged: ${non_smokers.median()} USD', sep='\\n\\n')\n",
    "print(f'Charge differences: {charge_difference_2}%')\n",
    "# print(f'Charge differences before and after BMI>25 variable comes in: {charge_differences}')"
   ]
  },
  {
   "cell_type": "markdown",
   "metadata": {},
   "source": [
    "The average charge for the two categories differs, with the Smoker group being approximately charged 524% as much as the Non-smoker group. \n",
    "\n",
    "\n",
    "Even though the average charge for the smoker group stays the same as before when we are not including the BMI score > 25 variable, the Non-smoker group has a slight increase in the overall average charges when the variable BMI score > 25 comes in."
   ]
  },
  {
   "cell_type": "markdown",
   "metadata": {},
   "source": [
    "---"
   ]
  },
  {
   "cell_type": "markdown",
   "metadata": {},
   "source": [
    "### **Key Takeaways From The Descriptive Analytics**\n",
    "1. The representative age for this data is 39 years old\n",
    "2. On average, Male and Female representatives in this dataset are categorized as Obesity Class 1, as both male and female average BMI scores are 30.943128698224832\n",
    "and 30.377749244713023 respectively. Both BMI scores fulfill the definition of obesity class 1 classification that ranges from 30-34.9 kg/$m^2$ which is defined in the publication titled [BMI Classification Percentile And Cut Off Points](https://www.ncbi.nlm.nih.gov/books/NBK541070/).\n",
    "3. Smokers group is also classified in the Obesity Class 1 classification.\n",
    "4. On average, the smoker's group charged $39,790.0 USD, which is approximately 5 times as the Non-smoker group, which on average charged approximately $7,345.4053 USD.\n",
    "5. On average, smokers with a BMI score > 25 are charged $39,790.0 USD which is the same as the average charges for the smoker group. However, there is a slightly increased in average charges for the Non-smoker group, whereas the Non-smoker group with BMI scores> 25 on average charged $7,580.89695, which is approximately 3% higher than the Non-smoker group."
   ]
  },
  {
   "cell_type": "markdown",
   "metadata": {},
   "source": [
    "---"
   ]
  },
  {
   "cell_type": "markdown",
   "metadata": {},
   "source": [
    "### **2nd step: Categoric Variable Analysis**"
   ]
  },
  {
   "cell_type": "markdown",
   "metadata": {},
   "source": [
    "In this step, I will try to answer the following questions.\n",
    "\n",
    "1. On average, which gender charged higher?\n",
    "2. Which proportion is higher, the smoker or non-smoker group?\n",
    "3. How is the charge distribution in each region?\n",
    "4. What is the probability that someone is a female given that we know that this someone is a smoker?\n",
    "5. What is the probability that someone is a male given that we know that this someone is a smoker?"
   ]
  },
  {
   "cell_type": "markdown",
   "metadata": {},
   "source": [
    "---"
   ]
  },
  {
   "cell_type": "markdown",
   "metadata": {},
   "source": [
    "**1. On average, which gender charged higher?**"
   ]
  },
  {
   "cell_type": "code",
   "execution_count": 8,
   "metadata": {},
   "outputs": [
    {
     "data": {
      "image/png": "[encoded data removed]",
      "text/plain": [
       "<Figure size 432x288 with 1 Axes>"
      ]
     },
     "metadata": {
      "needs_background": "light"
     },
     "output_type": "display_data"
    },
    {
     "name": "stdout",
     "output_type": "stream",
     "text": [
      "Female Median Charges: $9412.9625 USD\n",
      "Male Median Charges: $9369.61575 USD\n"
     ]
    }
   ],
   "source": [
    "male=df.loc[df['sex']=='male']['charges']\n",
    "female=df.loc[df['sex']=='female']['charges']\n",
    "\n",
    "plt.hist(female,label='Female')\n",
    "plt.hist(male,label='Male')\n",
    "plt.xlabel('Charges (USD)')\n",
    "plt.ylabel('Frequency')\n",
    "plt.axvline(male.median(),label='Female Median')\n",
    "plt.axvline(male.median(),color='black',label='Male Median')\n",
    "\n",
    "plt.title('Charged Distributions by Gender')\n",
    "plt.legend()\n",
    "plt.show()\n",
    "print(f'Female Median Charges: ${female.median()} USD', f'Male Median Charges: ${male.median()} USD', sep='\\n')"
   ]
  },
  {
   "cell_type": "markdown",
   "metadata": {},
   "source": [
    "On average, the Female group is charged slightly higher than the Male group, with just a delta of approximately 43 dollar."
   ]
  },
  {
   "cell_type": "markdown",
   "metadata": {},
   "source": [
    "---"
   ]
  },
  {
   "cell_type": "markdown",
   "metadata": {},
   "source": [
    "**2. Which proportion is higher, smoker group or non-smoker group?**"
   ]
  },
  {
   "cell_type": "code",
   "execution_count": 9,
   "metadata": {},
   "outputs": [
    {
     "data": {
      "image/png": "[encoded data removed]",
      "text/plain": [
       "<Figure size 432x288 with 1 Axes>"
      ]
     },
     "metadata": {
      "needs_background": "light"
     },
     "output_type": "display_data"
    },
    {
     "name": "stdout",
     "output_type": "stream",
     "text": [
      "Smokers proportion: 0.20478325859491778\n",
      "Non-smokers proportion: 0.7952167414050823\n"
     ]
    }
   ],
   "source": [
    "total_sample = df['smoker'].count()\n",
    "smokers = df.loc[df['smoker']=='yes']['smoker'].count()/total_sample\n",
    "non_smokers = df.loc[df['smoker']=='no']['smoker'].count()/total_sample\n",
    "\n",
    "\n",
    "plt.bar(['Smokers', 'Non-smokers'],[smokers,non_smokers],color=['blue','red'])\n",
    "plt.ylabel('Frequency')\n",
    "\n",
    "plt.title('Proportion by Smoking Status')\n",
    "plt.show()\n",
    "\n",
    "print(f'Smokers proportion: {smokers}', f'Non-smokers proportion: {non_smokers}',sep='\\n')"
   ]
  },
  {
   "cell_type": "markdown",
   "metadata": {},
   "source": [
    "The non-smoker group is dominating the data with approximately 80% of the data being non-smokers."
   ]
  },
  {
   "cell_type": "markdown",
   "metadata": {},
   "source": [
    "---"
   ]
  },
  {
   "cell_type": "markdown",
   "metadata": {},
   "source": [
    "**3. How is the charge distribution in each region?**"
   ]
  },
  {
   "cell_type": "code",
   "execution_count": 10,
   "metadata": {},
   "outputs": [
    {
     "data": {
      "image/png": "[encoded data removed]",
      "text/plain": [
       "<Figure size 432x288 with 1 Axes>"
      ]
     },
     "metadata": {
      "needs_background": "light"
     },
     "output_type": "display_data"
    },
    {
     "name": "stdout",
     "output_type": "stream",
     "text": [
      "Southwest Charges Median: $8798.593 USD\n"
     ]
    }
   ],
   "source": [
    "southwest = df.loc[df['region']=='southwest']['charges']\n",
    "\n",
    "plt.hist(southwest,label='Southwest')\n",
    "\n",
    "plt.title('Southwest Charges Distribution')\n",
    "plt.xlabel('Charges (USD)')\n",
    "plt.ylabel('Frequency')\n",
    "plt.axvline(southwest.median(), color='Black', label='Median')\n",
    "\n",
    "plt.legend()\n",
    "plt.show()\n",
    "\n",
    "print(f'Southwest Charges Median: ${southwest.median()} USD')"
   ]
  },
  {
   "cell_type": "code",
   "execution_count": 11,
   "metadata": {},
   "outputs": [
    {
     "data": {
      "image/png": "[encoded data removed]",
      "text/plain": [
       "<Figure size 432x288 with 1 Axes>"
      ]
     },
     "metadata": {
      "needs_background": "light"
     },
     "output_type": "display_data"
    },
    {
     "name": "stdout",
     "output_type": "stream",
     "text": [
      "Northwest Charges Median: $8965.79575 USD\n"
     ]
    }
   ],
   "source": [
    "northwest = df.loc[df['region']=='northwest']['charges']\n",
    "plt.hist(northwest,label='Northwest')\n",
    "\n",
    "plt.title('Northwest Charges Distribution')\n",
    "plt.xlabel('Charges (USD)')\n",
    "plt.ylabel('Frequency')\n",
    "plt.axvline(northwest.median(), color='Black', label='Median')\n",
    "\n",
    "plt.legend()\n",
    "plt.show()\n",
    "\n",
    "print(f'Northwest Charges Median: ${northwest.median()} USD')"
   ]
  },
  {
   "cell_type": "code",
   "execution_count": 12,
   "metadata": {},
   "outputs": [
    {
     "data": {
      "image/png": "[encoded data removed]",
      "text/plain": [
       "<Figure size 432x288 with 1 Axes>"
      ]
     },
     "metadata": {
      "needs_background": "light"
     },
     "output_type": "display_data"
    },
    {
     "name": "stdout",
     "output_type": "stream",
     "text": [
      "Southeast Charges Median: $9294.131949999999 USD\n"
     ]
    }
   ],
   "source": [
    "southeast = df.loc[df['region']=='southeast']['charges']\n",
    "plt.hist(southeast,label='Southeast')\n",
    "\n",
    "plt.title('Southeast Charges Distribution')\n",
    "plt.xlabel('Charges (USD)')\n",
    "plt.ylabel('Frequency')\n",
    "plt.axvline(southeast.median(), color='Black', label='Median')\n",
    "\n",
    "plt.legend()\n",
    "plt.show()\n",
    "\n",
    "print(f'Southeast Charges Median: ${southeast.median()} USD')\n"
   ]
  },
  {
   "cell_type": "code",
   "execution_count": 13,
   "metadata": {},
   "outputs": [
    {
     "data": {
      "image/png": "[encoded data removed]",
      "text/plain": [
       "<Figure size 432x288 with 1 Axes>"
      ]
     },
     "metadata": {
      "needs_background": "light"
     },
     "output_type": "display_data"
    },
    {
     "name": "stdout",
     "output_type": "stream",
     "text": [
      "Northeast Charges Median: $10057.652025 USD\n"
     ]
    }
   ],
   "source": [
    "northeast = df.loc[df['region']=='northeast']['charges']\n",
    "plt.hist(northeast,label='Northeast')\n",
    "\n",
    "plt.title('Northeast Charges Distribution')\n",
    "plt.xlabel('Charges (USD)')\n",
    "plt.ylabel('Frequency')\n",
    "plt.axvline(northeast.median(), color='Black', label='Median')\n",
    "\n",
    "plt.legend()\n",
    "plt.show()\n",
    "\n",
    "print(f'Northeast Charges Median: ${northeast.median()} USD')"
   ]
  },
  {
   "cell_type": "markdown",
   "metadata": {},
   "source": [
    "Charge distribution in each region is pretty much the same, with all of the regions tending to have a positively skewed distribution. The median for each region was ranked descendingly as follows:\n",
    "1. Northeast: $10,057.652025 USD\n",
    "2. Southeast: $9,294.131949999999 USD\n",
    "3. Northwest: $8,965.79575 USD\n",
    "4. Southwest: $8,798.593 USD"
   ]
  },
  {
   "cell_type": "markdown",
   "metadata": {},
   "source": [
    "---"
   ]
  },
  {
   "cell_type": "markdown",
   "metadata": {},
   "source": [
    "**4. What is the probability that someone is a female given that we know that this someone is a smoker?**"
   ]
  },
  {
   "cell_type": "code",
   "execution_count": 41,
   "metadata": {},
   "outputs": [
    {
     "name": "stdout",
     "output_type": "stream",
     "text": [
      "Total people who is a smoker: 274\n",
      "Total people who is a female and a smoker: 115\n",
      "P(Female|Smoker): 0.4197080291970803\n"
     ]
    }
   ],
   "source": [
    "total_smoker = df.loc[df['smoker'] == 'yes']['smoker'].count()\n",
    "female_and_smoker = df.loc[(df['sex'] == 'female') & (df['smoker'] == 'yes')]['smoker'].count()\n",
    "result = female_and_smoker/total_smoker\n",
    "\n",
    "print(\n",
    "    f'Total people who is a smoker: {total_smoker}',\n",
    "    f'Total people who is a female and a smoker: {female_and_smoker}',\n",
    "    f'P(Female|Smoker): {result}',\n",
    "    sep = '\\n'\n",
    ")\n"
   ]
  },
  {
   "cell_type": "markdown",
   "metadata": {},
   "source": [
    "---"
   ]
  },
  {
   "cell_type": "markdown",
   "metadata": {},
   "source": [
    "**5. What is the probability that someone is a male given that we know that this someone is a smoker?**"
   ]
  },
  {
   "cell_type": "code",
   "execution_count": 43,
   "metadata": {},
   "outputs": [
    {
     "name": "stdout",
     "output_type": "stream",
     "text": [
      "Total people who is a smoker: 274\n",
      "Total people who is a male and a smoker: 159\n",
      "P(Male|Smoker): 0.5802919708029197\n"
     ]
    }
   ],
   "source": [
    "total_smoker = df.loc[df['smoker'] == 'yes']['smoker'].count()\n",
    "male_and_smoker = df.loc[(df['sex'] == 'male') & (df['smoker'] == 'yes')]['smoker'].count()\n",
    "result = male_and_smoker/total_smoker\n",
    "\n",
    "print(\n",
    "    f'Total people who is a smoker: {total_smoker}',\n",
    "    f'Total people who is a male and a smoker: {male_and_smoker}',\n",
    "    f'P(Male|Smoker): {result}',\n",
    "    sep='\\n'\n",
    ")"
   ]
  },
  {
   "cell_type": "markdown",
   "metadata": {},
   "source": [
    "---"
   ]
  },
  {
   "cell_type": "markdown",
   "metadata": {},
   "source": [
    "### **Key Takeaways From The Categoric Variable Analysis**\n",
    "\n",
    "1. On average, the Female group is charged 9,412.9625 USD, which is slightly higher than the Male group which is charged 9,369.61575 USD. The average charges differ by approximately $43.\n",
    "2. Approximately 80% of the data are non-smoker users.\n",
    "3. Charges distribution in each region is pretty much the same, with all of the regions tending to have a positively skewed distribution. The median for each region was ranked descendingly as follows:\n",
    "    - Northeast: $10,057.652025 USD\n",
    "    - Southeast: $9,294.131949999999 USD\n",
    "    - Northwest: $8,965.79575 USD\n",
    "    - Southwest: $8,798.593 USD\n",
    "4. When we already have information that someone in the data is a smoker, there is approximately 58% probability that this someone is a male"
   ]
  },
  {
   "cell_type": "markdown",
   "metadata": {},
   "source": [
    "---"
   ]
  },
  {
   "cell_type": "markdown",
   "metadata": {},
   "source": [
    "### **3rd Step: Continous Variable Analysis**\n",
    "\n",
    "In this step, I will try to answer the following questions.\n",
    "\n",
    "1. What is the probability that people who have 'Normal Weight' according to the publication titled [BMI Classification Percentile And Cut Off Points](https://www.ncbi.nlm.nih.gov/books/NBK541070/) be charged for more than the average charges?\n",
    "2. If the person is a smoker, what is the probability that he/she will be charged for > $16,700 USD?\n",
    "3. Which is more likely to happen, person with BMI score > 25 get charged for > $16,700 USD or people with BMI score < 25 get charged for > $16,700 USD?\n",
    "4. Which is more likely to happen, smokers get charged for > $16,700 USD or non-smokers get charged for > $16,700 USD?"
   ]
  },
  {
   "cell_type": "markdown",
   "metadata": {},
   "source": [
    "---"
   ]
  },
  {
   "cell_type": "markdown",
   "metadata": {},
   "source": [
    "**1. What is the probability that people who have 'Normal Weight' be charged for more than the average charges?**"
   ]
  },
  {
   "cell_type": "markdown",
   "metadata": {},
   "source": [
    "First, I would like to know how is the distribution for the charges going and what is the average charge in this dataset."
   ]
  },
  {
   "cell_type": "code",
   "execution_count": 16,
   "metadata": {},
   "outputs": [
    {
     "data": {
      "image/png": "[encoded data removed]",
      "text/plain": [
       "<Figure size 432x288 with 1 Axes>"
      ]
     },
     "metadata": {
      "needs_background": "light"
     },
     "output_type": "display_data"
    },
    {
     "name": "stdout",
     "output_type": "stream",
     "text": [
      "Charge median: $9382.033 USD\n"
     ]
    }
   ],
   "source": [
    "charges = df['charges']\n",
    "\n",
    "plt.hist(charges)\n",
    "plt.title('Charge Distributions')\n",
    "plt.xlabel('Charges (USD)')\n",
    "plt.ylabel('Frequency')\n",
    "plt.axvline(charges.median(), color='black', label='Median')\n",
    "plt.legend()\n",
    "\n",
    "plt.show()\n",
    "print(f'Charge median: ${charges.median()} USD')"
   ]
  },
  {
   "cell_type": "markdown",
   "metadata": {},
   "source": [
    "Now that we know the average charges in this data, we can then find the probability for normal-weight people to be charged for more than the average charges.\n",
    "\n",
    "\n",
    "In the publication titled [BMI Classification Percentile And Cut Off Points](https://www.ncbi.nlm.nih.gov/books/NBK541070/), people who are categorized as having a normal weight have a BMI score that falls within the range of 18.5 to 24.9 kg/$m^2$. Thus, we will search for the probability that people with BMI score more than 18.5 and less than 24.9 kg/$m^2$ be charged more than $9,382.033 USD"
   ]
  },
  {
   "cell_type": "code",
   "execution_count": 17,
   "metadata": {},
   "outputs": [
    {
     "name": "stdout",
     "output_type": "stream",
     "text": [
      "Total people in the datasets that have BMI score > 18.5 and < 24.9 kg/m^2 and charged more than average: 101\n",
      "Total people in the datasets that have BMI score > 18.5 and < 24.9 kg/m^2: 221\n",
      "P(Charged more than average | BMI < 25): 0.45701357466063347\n"
     ]
    }
   ],
   "source": [
    "\n",
    "numerator = df.loc[(df['bmi'] > 18.5) & (df['bmi'] < 24.9) & (df['charges'] > charges.median())]['bmi'].count()\n",
    "denominator = df.loc[(df['bmi'] > 18.5) & (df['bmi'] < 24.9)]['bmi'].count()\n",
    "\n",
    "result = numerator/denominator\n",
    "\n",
    "print(f'Total people in the datasets that have BMI score > 18.5 and < 24.9 kg/m^2 and charged more than average: {numerator}')\n",
    "print(f'Total people in the datasets that have BMI score > 18.5 and < 24.9 kg/m^2: {denominator}')\n",
    "print(f'P(Charged more than average | BMI < 25): {result}')"
   ]
  },
  {
   "cell_type": "markdown",
   "metadata": {},
   "source": [
    "Out of all 221 people in this dataset that have BMI scores> 18.5  and < 24.9 kg/$m^2$, 101 of them are charged more than the average charge of $9,382.023 USD. Thus, a person that is categorized as having a 'Normal Weight' based on the publication titled [BMI Classification Percentile And Cut Off Points](https://www.ncbi.nlm.nih.gov/books/NBK541070/) has a probability of approximately 45.7% to be charged more than the average charges."
   ]
  },
  {
   "cell_type": "markdown",
   "metadata": {},
   "source": [
    "---"
   ]
  },
  {
   "cell_type": "markdown",
   "metadata": {},
   "source": [
    "**2. If the person is a smoker, what is the probability that he/she will be charged for > $16,700 USD?**"
   ]
  },
  {
   "cell_type": "code",
   "execution_count": 18,
   "metadata": {},
   "outputs": [
    {
     "name": "stdout",
     "output_type": "stream",
     "text": [
      "Total people in the datasets that smokes and is charged above $16.7k USD: 254\n",
      "Total people in the datasets that smokes: 274\n",
      "P(Charged > $16.7k USD | Smoker): 0.927007299270073\n"
     ]
    }
   ],
   "source": [
    "numerator = df.loc[(df['smoker'] == 'yes') & (df['charges'] > 16700)]['charges'].count()\n",
    "denominator = df.loc[df['smoker'] == 'yes']['smoker'].count()\n",
    "\n",
    "result = numerator/denominator\n",
    "\n",
    "print(f'Total people in the datasets that smokes and is charged above $16.7k USD: {numerator}')\n",
    "print(f'Total people in the datasets that smokes: {denominator}')\n",
    "print(f'P(Charged > $16.7k USD | Smoker): {result}')"
   ]
  },
  {
   "cell_type": "markdown",
   "metadata": {},
   "source": [
    "Out of all 274 people in this dataset that smokes, 254 of them are charged more than $16,700 USD. Thus, a person that smokes has a probability of approximately 92.7% to be charged more than $16,700 USD"
   ]
  },
  {
   "cell_type": "markdown",
   "metadata": {},
   "source": [
    "---"
   ]
  },
  {
   "cell_type": "markdown",
   "metadata": {},
   "source": [
    "**3. Which is more likely to happen, person with BMI score > 25 get charged for > $16,700 USD or people with BMI score < 25 get charged for > $16,700 USD?**"
   ]
  },
  {
   "cell_type": "code",
   "execution_count": 46,
   "metadata": {},
   "outputs": [
    {
     "name": "stdout",
     "output_type": "stream",
     "text": [
      "Total people with BMI > 25 and charged > $16.7k: 283\n",
      "Total people with BMI > 25: 1091\n",
      "P(Charged > $16.7k USD | BMI score > 25 kg/m^2): 0.25939505041246563\n",
      "\n",
      "Total people with BMI < 25 and charged > $16.7k: 51\n",
      "Total people with BMI < 25: 245\n",
      "P(Charged > $16.7k USD | BMI score < 25 kg/m^2): 0.20816326530612245\n"
     ]
    }
   ],
   "source": [
    "# Calculating the probability for the first category, BMI score > 25 charged for > $16,700 USD\n",
    "bmi_more_than_25_and_charged = df.loc[(df['bmi'] > 25) & (df['charges'] > 16700)]['charges'].count()\n",
    "bmi_more_than_25 = df.loc[df['bmi'] > 25]['bmi'].count()\n",
    "p_bmi_more_than_25 = bmi_more_than_25_and_charged/bmi_more_than_25\n",
    "\n",
    "\n",
    "# Calculating the probability for the second category, BMI score < 25 charged for > $16,700 USD\n",
    "bmi_less_than_25_and_charged = df.loc[(df['bmi'] < 25) & (df['charges'] > 16700)]['charges'].count()\n",
    "bmi_less_than_25 = df.loc[df['bmi'] < 25]['bmi'].count()\n",
    "p_bmi_less_than_25 = bmi_less_than_25_and_charged/bmi_less_than_25\n",
    "\n",
    "print(\n",
    "    f'Total people with BMI > 25 and charged > $16.7k: {bmi_more_than_25_and_charged}',\n",
    "    f'Total people with BMI > 25: {bmi_more_than_25}',\n",
    "    f'P(Charged > $16.7k USD | BMI score > 25 kg/m^2): {p_bmi_more_than_25}',\n",
    "    sep='\\n'\n",
    ")\n",
    "\n",
    "print('')\n",
    "\n",
    "print(\n",
    "    f'Total people with BMI < 25 and charged > $16.7k: {bmi_less_than_25_and_charged}',\n",
    "    f'Total people with BMI < 25: {bmi_less_than_25}',\n",
    "    f'P(Charged > $16.7k USD | BMI score < 25 kg/m^2): {p_bmi_less_than_25}',\n",
    "    sep='\\n'\n",
    ")"
   ]
  },
  {
   "cell_type": "markdown",
   "metadata": {},
   "source": [
    "We can see that it is more likely for someone to be charged more than $16,700k USD if they have a BMI score > 25 kg/$m^2$ than for someone who has BMI score < 25 kg/$m^2$."
   ]
  },
  {
   "cell_type": "markdown",
   "metadata": {},
   "source": [
    "---"
   ]
  },
  {
   "cell_type": "markdown",
   "metadata": {},
   "source": [
    "**4. Which is more likely to happen, smokers get charged for > $16,700 USD or non-smokers get charged for > $16,700 USD?**"
   ]
  },
  {
   "cell_type": "code",
   "execution_count": 48,
   "metadata": {},
   "outputs": [
    {
     "name": "stdout",
     "output_type": "stream",
     "text": [
      "Total people that smokes and charged > $16.7k: 254\n",
      "Total smokers: 274\n",
      "P(Charged > $16.7k USD | Smokers): 0.927007299270073\n",
      "\n",
      "Total non-smoking people that is charged > $16.7k: 80\n",
      "Total non-smokers: 1064\n",
      "P(Charged > $16.7k USD | Non-smokers): 0.07518796992481203\n"
     ]
    }
   ],
   "source": [
    "# Calculating the probability for the first category, smokers get charged for > $16,700 USD\n",
    "smokers_and_charged = df.loc[(df['smoker'] == 'yes') & (df['charges'] > 16700)]['charges'].count()\n",
    "smokers = df.loc[df['smoker'] == 'yes']['smoker'].count()\n",
    "p_smokers_and_charged = smokers_and_charged/smokers\n",
    "\n",
    "# Calculating the probability for the second category, non-smokers get charged for > $16,700 USD\n",
    "non_smokers_and_charged = df.loc[(df['smoker'] == 'no') & (df['charges'] > 16700)]['charges'].count()\n",
    "non_smokers = df.loc[df['smoker'] == 'no']['smoker'].count()\n",
    "p_non_smokers_and_charged = non_smokers_and_charged/non_smokers\n",
    "\n",
    "print(\n",
    "    f'Total people that smokes and charged > $16.7k: {smokers_and_charged}',\n",
    "    f'Total smokers: {smokers}',\n",
    "    f'P(Charged > $16.7k USD | Smokers): {p_smokers_and_charged}',\n",
    "    sep='\\n'\n",
    ")\n",
    "\n",
    "print('')\n",
    "\n",
    "print(\n",
    "    f'Total non-smoking people that is charged > $16.7k: {non_smokers_and_charged}',\n",
    "    f'Total non-smokers: {non_smokers}',\n",
    "    f'P(Charged > $16.7k USD | Non-smokers): {p_non_smokers_and_charged}',\n",
    "    sep='\\n'\n",
    ")"
   ]
  },
  {
   "cell_type": "markdown",
   "metadata": {},
   "source": [
    "We can see that it is more likely for someone to be charged more than $16,700k USD if they are a smoker than for someone who is a non-smoker."
   ]
  },
  {
   "cell_type": "markdown",
   "metadata": {},
   "source": [
    "---"
   ]
  },
  {
   "cell_type": "markdown",
   "metadata": {},
   "source": [
    "### **Key Takeaways From The Continous Variable Analysis**\n",
    "\n",
    "1. People categorized as 'Normal Weight' (BMI score between 18.5 to 24.9 kg/$m^2$) based on the publication titled [BMI Classification Percentile And Cut Off Points](https://www.ncbi.nlm.nih.gov/books/NBK541070/) have a probability of approximately 45.7% to be charged more than the average charges of $9382.033 USD.\n",
    "2. Out of all 274 people in this dataset who smoke, 254 of them are charged more than $16,700 USD. Thus, a person that smokes has a probability of approximately 92.7% to be charged more than $16,700 USD\n",
    "3. It is more likely for someone to be charged more than $16,700k USD if they have a BMI score > 25 kg/$m^2$ than for someone who has BMI score < 25 kg/$m^2$. The probability is approximately 25.9%\n",
    "4. It is more likely for someone to be charged more than $16,700k USD if they are a smoker than for someone who is a non-smoker. The probability is approximately 92.7% \n"
   ]
  },
  {
   "cell_type": "markdown",
   "metadata": {},
   "source": [
    "---"
   ]
  },
  {
   "cell_type": "markdown",
   "metadata": {},
   "source": [
    "### **4th Step: Correlation Analysis**\n",
    "\n",
    "Now is the time for analyzing the relationship and correlation between the charge variable with the other variables."
   ]
  },
  {
   "cell_type": "code",
   "execution_count": 21,
   "metadata": {},
   "outputs": [
    {
     "data": {
      "image/png": "[encoded data removed]",
      "text/plain": [
       "<Figure size 432x288 with 1 Axes>"
      ]
     },
     "metadata": {
      "needs_background": "light"
     },
     "output_type": "display_data"
    }
   ],
   "source": [
    "# Plotting Age and Charges in the scatter plot\n",
    "plt.scatter(df['age'], df['charges'])\n",
    "plt.xlabel('Age')\n",
    "plt.title(('Age vs.Charges'))\n",
    "plt.ylabel('Charge')\n",
    "\n",
    "plt.show()"
   ]
  },
  {
   "cell_type": "code",
   "execution_count": 22,
   "metadata": {},
   "outputs": [
    {
     "data": {
      "image/png": "[encoded data removed]",
      "text/plain": [
       "<Figure size 432x288 with 1 Axes>"
      ]
     },
     "metadata": {
      "needs_background": "light"
     },
     "output_type": "display_data"
    }
   ],
   "source": [
    "# Plotting BMI and Charges in the scatter plot\n",
    "plt.scatter(df['bmi'], df['charges'])\n",
    "plt.xlabel('BMI')\n",
    "plt.title(('BMI vs.Charges'))\n",
    "plt.ylabel('Charge')\n",
    "\n",
    "plt.show()"
   ]
  },
  {
   "cell_type": "markdown",
   "metadata": {},
   "source": [
    "---"
   ]
  },
  {
   "cell_type": "markdown",
   "metadata": {},
   "source": [
    "**Calculating Covariance**"
   ]
  },
  {
   "cell_type": "code",
   "execution_count": 23,
   "metadata": {},
   "outputs": [
    {
     "data": {
      "text/html": [
       "<div>\n",
       "<style scoped>\n",
       "    .dataframe tbody tr th:only-of-type {\n",
       "        vertical-align: middle;\n",
       "    }\n",
       "\n",
       "    .dataframe tbody tr th {\n",
       "        vertical-align: top;\n",
       "    }\n",
       "\n",
       "    .dataframe thead th {\n",
       "        text-align: right;\n",
       "    }\n",
       "</style>\n",
       "<table border=\"1\" class=\"dataframe\">\n",
       "  <thead>\n",
       "    <tr style=\"text-align: right;\">\n",
       "      <th></th>\n",
       "      <th>age</th>\n",
       "      <th>bmi</th>\n",
       "      <th>children</th>\n",
       "      <th>charges</th>\n",
       "    </tr>\n",
       "  </thead>\n",
       "  <tbody>\n",
       "    <tr>\n",
       "      <th>age</th>\n",
       "      <td>197.401387</td>\n",
       "      <td>9.362337</td>\n",
       "      <td>0.719303</td>\n",
       "      <td>5.087480e+04</td>\n",
       "    </tr>\n",
       "    <tr>\n",
       "      <th>bmi</th>\n",
       "      <td>9.362337</td>\n",
       "      <td>37.187884</td>\n",
       "      <td>0.093795</td>\n",
       "      <td>1.464730e+04</td>\n",
       "    </tr>\n",
       "    <tr>\n",
       "      <th>children</th>\n",
       "      <td>0.719303</td>\n",
       "      <td>0.093795</td>\n",
       "      <td>1.453213</td>\n",
       "      <td>9.926742e+02</td>\n",
       "    </tr>\n",
       "    <tr>\n",
       "      <th>charges</th>\n",
       "      <td>50874.802298</td>\n",
       "      <td>14647.304426</td>\n",
       "      <td>992.674197</td>\n",
       "      <td>1.466524e+08</td>\n",
       "    </tr>\n",
       "  </tbody>\n",
       "</table>\n",
       "</div>"
      ],
      "text/plain": [
       "                   age           bmi    children       charges\n",
       "age         197.401387      9.362337    0.719303  5.087480e+04\n",
       "bmi           9.362337     37.187884    0.093795  1.464730e+04\n",
       "children      0.719303      0.093795    1.453213  9.926742e+02\n",
       "charges   50874.802298  14647.304426  992.674197  1.466524e+08"
      ]
     },
     "execution_count": 23,
     "metadata": {},
     "output_type": "execute_result"
    }
   ],
   "source": [
    "df.cov()"
   ]
  },
  {
   "cell_type": "markdown",
   "metadata": {},
   "source": [
    "From the covariance, we know that:\n",
    "\n",
    "1. There is a positive relationship between Age and Charges\n",
    "2. There is a positive relationship between BMI score and Charges\n",
    "\n",
    "However, we do not know whether this positive relation is relatively strong or relatively weak. To know that, we need to find Pearson's Correlation Coefficient for the related variables."
   ]
  },
  {
   "cell_type": "markdown",
   "metadata": {},
   "source": [
    "---"
   ]
  },
  {
   "cell_type": "markdown",
   "metadata": {},
   "source": [
    "**Calculating Pearson's Correlation Coefficient**"
   ]
  },
  {
   "cell_type": "code",
   "execution_count": 24,
   "metadata": {},
   "outputs": [
    {
     "data": {
      "text/html": [
       "<div>\n",
       "<style scoped>\n",
       "    .dataframe tbody tr th:only-of-type {\n",
       "        vertical-align: middle;\n",
       "    }\n",
       "\n",
       "    .dataframe tbody tr th {\n",
       "        vertical-align: top;\n",
       "    }\n",
       "\n",
       "    .dataframe thead th {\n",
       "        text-align: right;\n",
       "    }\n",
       "</style>\n",
       "<table border=\"1\" class=\"dataframe\">\n",
       "  <thead>\n",
       "    <tr style=\"text-align: right;\">\n",
       "      <th></th>\n",
       "      <th>age</th>\n",
       "      <th>bmi</th>\n",
       "      <th>children</th>\n",
       "      <th>charges</th>\n",
       "    </tr>\n",
       "  </thead>\n",
       "  <tbody>\n",
       "    <tr>\n",
       "      <th>age</th>\n",
       "      <td>1.000000</td>\n",
       "      <td>0.109272</td>\n",
       "      <td>0.042469</td>\n",
       "      <td>0.299008</td>\n",
       "    </tr>\n",
       "    <tr>\n",
       "      <th>bmi</th>\n",
       "      <td>0.109272</td>\n",
       "      <td>1.000000</td>\n",
       "      <td>0.012759</td>\n",
       "      <td>0.198341</td>\n",
       "    </tr>\n",
       "    <tr>\n",
       "      <th>children</th>\n",
       "      <td>0.042469</td>\n",
       "      <td>0.012759</td>\n",
       "      <td>1.000000</td>\n",
       "      <td>0.067998</td>\n",
       "    </tr>\n",
       "    <tr>\n",
       "      <th>charges</th>\n",
       "      <td>0.299008</td>\n",
       "      <td>0.198341</td>\n",
       "      <td>0.067998</td>\n",
       "      <td>1.000000</td>\n",
       "    </tr>\n",
       "  </tbody>\n",
       "</table>\n",
       "</div>"
      ],
      "text/plain": [
       "               age       bmi  children   charges\n",
       "age       1.000000  0.109272  0.042469  0.299008\n",
       "bmi       0.109272  1.000000  0.012759  0.198341\n",
       "children  0.042469  0.012759  1.000000  0.067998\n",
       "charges   0.299008  0.198341  0.067998  1.000000"
      ]
     },
     "execution_count": 24,
     "metadata": {},
     "output_type": "execute_result"
    }
   ],
   "source": [
    "df.corr()"
   ]
  },
  {
   "cell_type": "markdown",
   "metadata": {},
   "source": [
    "From Pearson's Correlation Coefficient, we know that:\n",
    "\n",
    "1. Age and Charges have approximately 0.3 correlation coefficient, which indicates that even though both variables have a positive relationship, the relationship is relatively weak. Thus for example, if we knew that someone's age is relatively high compared to the other age in the datasets (e.g. 50), it does not indicate that this person will be charged relatively high compared to the other charges in the datasets (e.g. above the average of $9382.033 USD.)\n",
    "\n",
    "2. The same goes for the relationship between BMI score and charges. The correlation coefficient of approximately 0.2 is indicating a positive relationship but the relation is relatively weak."
   ]
  },
  {
   "cell_type": "markdown",
   "metadata": {},
   "source": [
    "---"
   ]
  },
  {
   "cell_type": "markdown",
   "metadata": {},
   "source": [
    "### **5th Step: Hypothesis Testing**\n",
    "\n",
    "The last step is to test several hypotheses related to the insurance charges. The hypothesis is:\n",
    "\n",
    "1. Smokers are charged higher than non-smokers.\n",
    "2. People with a BMI score > 25 are charged higher than people with BMI < 25.\n",
    "3. Males are charged more than females."
   ]
  },
  {
   "cell_type": "markdown",
   "metadata": {},
   "source": [
    "----"
   ]
  },
  {
   "cell_type": "markdown",
   "metadata": {},
   "source": [
    "**1. Smoker charged higher than Non-smoker.**"
   ]
  },
  {
   "cell_type": "markdown",
   "metadata": {},
   "source": [
    "- h0: Average charged for Smoker >= Non-smoker\n",
    "- h1: Average charged for Smoker < Non-Smoker\n",
    "- Alpha: 0.05"
   ]
  },
  {
   "cell_type": "code",
   "execution_count": 25,
   "metadata": {},
   "outputs": [],
   "source": [
    "# Initialize alpha\n",
    "alpha = 0.05"
   ]
  },
  {
   "cell_type": "code",
   "execution_count": 26,
   "metadata": {},
   "outputs": [
    {
     "name": "stdout",
     "output_type": "stream",
     "text": [
      "Smoker sample size: 274\n",
      "Smoker charges variance: 133207311.20634921\n",
      "\n",
      "Non-smoker sample size: 1064\n",
      "Non-smoker charges variance: 35925420.49611172\n"
     ]
    }
   ],
   "source": [
    "# Looking at both category sample size provided by the datasets\n",
    "n_smoker = len(df.loc[df['smoker'] == 'yes'])\n",
    "var_smoker = df.loc[df['smoker'] == 'yes']['charges'].var()\n",
    "\n",
    "n_non_smoker = len(df.loc[df['smoker'] == 'no'])\n",
    "var_non_smoker = df.loc[df['smoker'] == 'no']['charges'].var()\n",
    "\n",
    "\n",
    "print(f'Smoker sample size: {n_smoker}')\n",
    "print(f'Smoker charges variance: {var_smoker}')\n",
    "\n",
    "print('')\n",
    "\n",
    "print(f'Non-smoker sample size: {n_non_smoker}')\n",
    "print(f'Non-smoker charges variance: {var_non_smoker}')"
   ]
  },
  {
   "cell_type": "markdown",
   "metadata": {},
   "source": [
    "Since there's a relatively huge difference between the two sample sizes and their variance, I think it is more reliable to use the [Welch's T-test](https://en.wikipedia.org/wiki/Welch%27s_t-test) statistical test method in this case."
   ]
  },
  {
   "cell_type": "code",
   "execution_count": 27,
   "metadata": {},
   "outputs": [
    {
     "name": "stdout",
     "output_type": "stream",
     "text": [
      "P-value: 1.0\n",
      "T-Stat: 32.752\n",
      "\n",
      "Decision:\n",
      "Failed to reject h0\n"
     ]
    }
   ],
   "source": [
    "# Defining the variables\n",
    "smoker = df.loc[df['smoker'] == 'yes']['charges']\n",
    "non_smoker = df.loc[df['smoker'] == 'no']['charges']\n",
    "\n",
    "# Calculting the mean value charge for smoker is less than the Non-smoker\n",
    "stat,pvalue = stats.ttest_ind(smoker,non_smoker,alternative='less',equal_var = False)\n",
    "print(f'P-value: {round(pvalue,3)}', f'T-Stat: {round(stat,3)}', sep='\\n')\n",
    "\n",
    "# Interpreting result\n",
    "print('')\n",
    "print('Decision:')\n",
    "\n",
    "if pvalue > alpha:\n",
    "    print('Failed to reject h0') \n",
    "else:\n",
    "    print('Reject h0')\n"
   ]
  },
  {
   "cell_type": "markdown",
   "metadata": {},
   "source": [
    "From Welch's T-test statistical test, the p-value is not in the area of rejection. Thus, we fail to reject the null hypothesis which states that on average, the Smoker group is charged higher or equal to the average charge for the Non-smoker group."
   ]
  },
  {
   "cell_type": "markdown",
   "metadata": {},
   "source": [
    "---"
   ]
  },
  {
   "cell_type": "markdown",
   "metadata": {},
   "source": [
    "**2. People with BMI score > 25 charged higher than people with BMI < 25.**"
   ]
  },
  {
   "cell_type": "markdown",
   "metadata": {},
   "source": [
    "- h0: (Average charged for people with BMI score > 25) >= (people with BMI score < 25)\n",
    "- h1: (Average charged for people with BMI score > 25) < (people with BMI score < 25)\n",
    "- Alpha: 0.05"
   ]
  },
  {
   "cell_type": "code",
   "execution_count": 28,
   "metadata": {},
   "outputs": [],
   "source": [
    "# Initialize alpha\n",
    "alpha = 0.05"
   ]
  },
  {
   "cell_type": "code",
   "execution_count": 29,
   "metadata": {},
   "outputs": [
    {
     "name": "stdout",
     "output_type": "stream",
     "text": [
      "People with BMI score > 25 sample size: 1091\n",
      "People with BMI score > 25 charges variance: 164730179.60345617\n",
      "\n",
      "People with BMI score < 25 sample size: 245\n",
      "People with BMI score < 25 charges variance: 56557707.41605781\n"
     ]
    }
   ],
   "source": [
    "# Looking at both category sample size provided by the datasets\n",
    "n_bmi_mt_25 = len(df.loc[df['bmi'] > 25])\n",
    "var_bmi_mt_25 = df.loc[df['bmi'] > 25]['charges'].var()\n",
    "\n",
    "n_bmi_lt_25 = len(df.loc[df['bmi'] < 25])\n",
    "var_bmi_lt_25 = df.loc[df['bmi'] < 25]['charges'].var()\n",
    "\n",
    "\n",
    "print(f'People with BMI score > 25 sample size: {n_bmi_mt_25}')\n",
    "print(f'People with BMI score > 25 charges variance: {var_bmi_mt_25}')\n",
    "\n",
    "print('')\n",
    "\n",
    "print(f'People with BMI score < 25 sample size: {n_bmi_lt_25}')\n",
    "print(f'People with BMI score < 25 charges variance: {var_bmi_lt_25}')"
   ]
  },
  {
   "cell_type": "code",
   "execution_count": 30,
   "metadata": {},
   "outputs": [
    {
     "name": "stdout",
     "output_type": "stream",
     "text": [
      "P-value: 1.0\n",
      "T-Stat: 5.93\n",
      "\n",
      "Decision:\n",
      "Failed to reject h0\n"
     ]
    }
   ],
   "source": [
    "# Defining the variables\n",
    "bmi_mt_25 = df.loc[df['bmi'] > 25]['charges']\n",
    "bmi_lt_25 = df.loc[df['bmi'] < 25]['charges']\n",
    "\n",
    "# Calculting the average charged for people with BMI score > 25 is less than people with BMI score < 25\n",
    "stat,pvalue = stats.ttest_ind(bmi_mt_25, bmi_lt_25, alternative='less', equal_var = False)\n",
    "print(f'P-value: {round(pvalue,3)}', f'T-Stat: {round(stat,3)}', sep='\\n')\n",
    "\n",
    "# Interpreting result\n",
    "print('')\n",
    "print('Decision:')\n",
    "\n",
    "if pvalue > alpha:\n",
    "    print('Failed to reject h0') \n",
    "else:\n",
    "    print('Reject h0')\n"
   ]
  },
  {
   "cell_type": "markdown",
   "metadata": {},
   "source": [
    "From Welch's T-test statistical test, the p-value is not in the area of rejection. Thus, we fail to reject the null hypothesis which states that on average, people with a BMI score >  25 are charged higher or equal to people with a BMI score < 25."
   ]
  },
  {
   "cell_type": "markdown",
   "metadata": {},
   "source": [
    "---"
   ]
  },
  {
   "cell_type": "markdown",
   "metadata": {},
   "source": [
    "**3. Male charged more than female.**"
   ]
  },
  {
   "cell_type": "markdown",
   "metadata": {},
   "source": [
    "- h0: Average charged for male >= average charge for female\n",
    "- h1: Average charged for male < average charge for female\n",
    "- Alpha: 0.05"
   ]
  },
  {
   "cell_type": "code",
   "execution_count": 31,
   "metadata": {},
   "outputs": [],
   "source": [
    "# Initialize alpha\n",
    "alpha = 0.05"
   ]
  },
  {
   "cell_type": "code",
   "execution_count": 32,
   "metadata": {},
   "outputs": [
    {
     "name": "stdout",
     "output_type": "stream",
     "text": [
      "Male sample size: 676\n",
      "Male charges variance: 168247513.2881999\n",
      "\n",
      "Female sample size: 662\n",
      "Female charges variance: 123848048.28850958\n"
     ]
    }
   ],
   "source": [
    "# Looking at both category sample size provided by the datasets\n",
    "n_male = len(df.loc[df['sex'] == 'male'])\n",
    "var_male = df.loc[df['sex'] == 'male']['charges'].var()\n",
    "\n",
    "n_female = len(df.loc[df['sex'] == 'female'])\n",
    "var_female = df.loc[df['sex'] == 'female']['charges'].var()\n",
    "\n",
    "\n",
    "print(f'Male sample size: {n_male}')\n",
    "print(f'Male charges variance: {var_male}')\n",
    "\n",
    "print('')\n",
    "\n",
    "print(f'Female sample size: {n_female}')\n",
    "print(f'Female charges variance: {var_female}')"
   ]
  },
  {
   "cell_type": "markdown",
   "metadata": {},
   "source": [
    "Different than the hypothesis before, the sample size and the variance, in this case, are similar in both categories. We can use the regular T-test statistical test method in this case."
   ]
  },
  {
   "cell_type": "code",
   "execution_count": 33,
   "metadata": {},
   "outputs": [
    {
     "name": "stdout",
     "output_type": "stream",
     "text": [
      "P-value: 0.982\n",
      "T-Stat: 2.098\n",
      "\n",
      "Decision:\n",
      "Failed to reject h0\n"
     ]
    }
   ],
   "source": [
    "# Defining the variables\n",
    "male = df.loc[df['sex'] == 'male']['charges']\n",
    "female = df.loc[df['sex'] == 'female']['charges']\n",
    "\n",
    "# Calculting the average charged for male is less than female\n",
    "stat,pvalue = stats.ttest_ind(male, female, alternative='less')\n",
    "print(f'P-value: {round(pvalue,3)}', f'T-Stat: {round(stat,3)}', sep='\\n')\n",
    "\n",
    "# Interpreting result\n",
    "print('')\n",
    "print('Decision:')\n",
    "\n",
    "if pvalue > alpha:\n",
    "    print('Failed to reject h0') \n",
    "else:\n",
    "    print('Reject h0')\n"
   ]
  },
  {
   "cell_type": "markdown",
   "metadata": {},
   "source": [
    "From the T-test statistical test, the p-value is not in the area of rejection. Thus, we fail to reject the null hypothesis which states that on average, the male is charged higher or equal to the female."
   ]
  },
  {
   "cell_type": "markdown",
   "metadata": {},
   "source": [
    "---"
   ]
  },
  {
   "cell_type": "markdown",
   "metadata": {},
   "source": [
    "### **Key Takeaways From Testing Several Hypothesis**\n",
    "\n",
    "1. We fail to reject the null hypothesis which states that on average, the Smoker group is charged higher or equal to the average charge for the Non-smoker group.\n",
    "2. We fail to reject the null hypothesis which states that on average, people with a BMI score >  25 are charged higher or equal to people with a BMI score < 25.\n",
    "3. We fail to reject the null hypothesis which states that on average, the male is charged higher or equal to the female.\n"
   ]
  }
 ],
 "metadata": {
  "interpreter": {
   "hash": "40d3a090f54c6569ab1632332b64b2c03c39dcf918b08424e98f38b5ae0af88f"
  },
  "kernelspec": {
   "display_name": "Python 3.9.12 ('base')",
   "language": "python",
   "name": "python3"
  },
  "language_info": {
   "codemirror_mode": {
    "name": "ipython",
    "version": 3
   },
   "file_extension": ".py",
   "mimetype": "text/x-python",
   "name": "python",
   "nbconvert_exporter": "python",
   "pygments_lexer": "ipython3",
   "version": "3.9.12"
  },
  "orig_nbformat": 4
 },
 "nbformat": 4,
 "nbformat_minor": 2
}
